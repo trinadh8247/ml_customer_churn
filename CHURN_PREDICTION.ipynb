{
 "cells": [
  {
   "cell_type": "code",
   "execution_count": null,
   "id": "02e49a95",
   "metadata": {
    "execution": {
     "iopub.execute_input": "2025-07-23T04:36:53.687012Z",
     "iopub.status.busy": "2025-07-23T04:36:53.686691Z",
     "iopub.status.idle": "2025-07-23T04:36:53.968615Z",
     "shell.execute_reply": "2025-07-23T04:36:53.967841Z"
    },
    "papermill": {
     "duration": 0.289696,
     "end_time": "2025-07-23T04:36:53.970337",
     "exception": false,
     "start_time": "2025-07-23T04:36:53.680641",
     "status": "completed"
    },
    "tags": []
   },
   "outputs": [],
   "source": [
    "import pandas as pd\n",
    "train=pd.read_csv('data/train.csv')\n",
    "test=pd.read_csv('data/test.csv')"
   ]
  },
  {
   "cell_type": "markdown",
   "id": "1630df63",
   "metadata": {
    "papermill": {
     "duration": 0.005283,
     "end_time": "2025-07-23T04:36:53.986122",
     "exception": false,
     "start_time": "2025-07-23T04:36:53.980839",
     "status": "completed"
    },
    "tags": []
   },
   "source": [
    "## Identify data types of different columns"
   ]
  },
  {
   "cell_type": "code",
   "execution_count": 3,
   "id": "170f8eba",
   "metadata": {
    "execution": {
     "iopub.execute_input": "2025-07-23T04:36:53.999005Z",
     "iopub.status.busy": "2025-07-23T04:36:53.998486Z",
     "iopub.status.idle": "2025-07-23T04:36:54.045813Z",
     "shell.execute_reply": "2025-07-23T04:36:54.044984Z"
    },
    "papermill": {
     "duration": 0.054734,
     "end_time": "2025-07-23T04:36:54.047005",
     "exception": false,
     "start_time": "2025-07-23T04:36:53.992271",
     "status": "completed"
    },
    "tags": []
   },
   "outputs": [
    {
     "name": "stdout",
     "output_type": "stream",
     "text": [
      "<class 'pandas.core.frame.DataFrame'>\n",
      "RangeIndex: 90000 entries, 0 to 89999\n",
      "Data columns (total 14 columns):\n",
      " #   Column            Non-Null Count  Dtype  \n",
      "---  ------            --------------  -----  \n",
      " 0   id                90000 non-null  int64  \n",
      " 1   customer_id       90000 non-null  int64  \n",
      " 2   last_name         90000 non-null  object \n",
      " 3   credit_score      80444 non-null  float64\n",
      " 4   country           83979 non-null  object \n",
      " 5   gender            90000 non-null  object \n",
      " 6   age               90000 non-null  float64\n",
      " 7   tenure            90000 non-null  int64  \n",
      " 8   acc_balance       82743 non-null  float64\n",
      " 9   prod_count        85137 non-null  float64\n",
      " 10  has_card          90000 non-null  float64\n",
      " 11  is_active         90000 non-null  float64\n",
      " 12  estimated_salary  90000 non-null  float64\n",
      " 13  exit_status       90000 non-null  int64  \n",
      "dtypes: float64(7), int64(4), object(3)\n",
      "memory usage: 9.6+ MB\n"
     ]
    }
   ],
   "source": [
    "train.info()"
   ]
  },
  {
   "cell_type": "code",
   "execution_count": 4,
   "id": "8e3cdc61",
   "metadata": {
    "execution": {
     "iopub.execute_input": "2025-07-23T04:36:54.059310Z",
     "iopub.status.busy": "2025-07-23T04:36:54.059071Z",
     "iopub.status.idle": "2025-07-23T04:36:54.071891Z",
     "shell.execute_reply": "2025-07-23T04:36:54.070973Z"
    },
    "papermill": {
     "duration": 0.020422,
     "end_time": "2025-07-23T04:36:54.073108",
     "exception": false,
     "start_time": "2025-07-23T04:36:54.052686",
     "status": "completed"
    },
    "tags": []
   },
   "outputs": [
    {
     "name": "stdout",
     "output_type": "stream",
     "text": [
      "<class 'pandas.core.frame.DataFrame'>\n",
      "RangeIndex: 30000 entries, 0 to 29999\n",
      "Data columns (total 13 columns):\n",
      " #   Column            Non-Null Count  Dtype  \n",
      "---  ------            --------------  -----  \n",
      " 0   id                30000 non-null  int64  \n",
      " 1   customer_id       30000 non-null  int64  \n",
      " 2   last_name         30000 non-null  object \n",
      " 3   credit_score      26815 non-null  float64\n",
      " 4   country           25394 non-null  object \n",
      " 5   gender            30000 non-null  object \n",
      " 6   age               30000 non-null  float64\n",
      " 7   tenure            30000 non-null  int64  \n",
      " 8   acc_balance       24749 non-null  float64\n",
      " 9   prod_count        28283 non-null  float64\n",
      " 10  has_card          30000 non-null  float64\n",
      " 11  is_active         30000 non-null  float64\n",
      " 12  estimated_salary  30000 non-null  float64\n",
      "dtypes: float64(7), int64(3), object(3)\n",
      "memory usage: 3.0+ MB\n"
     ]
    }
   ],
   "source": [
    "test.info()"
   ]
  },
  {
   "cell_type": "code",
   "execution_count": 5,
   "id": "5d66207a",
   "metadata": {
    "execution": {
     "iopub.execute_input": "2025-07-23T04:36:54.086779Z",
     "iopub.status.busy": "2025-07-23T04:36:54.086410Z",
     "iopub.status.idle": "2025-07-23T04:36:54.109710Z",
     "shell.execute_reply": "2025-07-23T04:36:54.108963Z"
    },
    "papermill": {
     "duration": 0.031807,
     "end_time": "2025-07-23T04:36:54.110859",
     "exception": false,
     "start_time": "2025-07-23T04:36:54.079052",
     "status": "completed"
    },
    "tags": []
   },
   "outputs": [
    {
     "name": "stderr",
     "output_type": "stream",
     "text": [
      "/usr/local/lib/python3.11/dist-packages/pandas/io/formats/format.py:1458: RuntimeWarning: invalid value encountered in greater\n",
      "  has_large_values = (abs_vals > 1e6).any()\n",
      "/usr/local/lib/python3.11/dist-packages/pandas/io/formats/format.py:1459: RuntimeWarning: invalid value encountered in less\n",
      "  has_small_values = ((abs_vals < 10 ** (-self.digits)) & (abs_vals > 0)).any()\n",
      "/usr/local/lib/python3.11/dist-packages/pandas/io/formats/format.py:1459: RuntimeWarning: invalid value encountered in greater\n",
      "  has_small_values = ((abs_vals < 10 ** (-self.digits)) & (abs_vals > 0)).any()\n"
     ]
    },
    {
     "data": {
      "text/html": [
       "<div>\n",
       "<style scoped>\n",
       "    .dataframe tbody tr th:only-of-type {\n",
       "        vertical-align: middle;\n",
       "    }\n",
       "\n",
       "    .dataframe tbody tr th {\n",
       "        vertical-align: top;\n",
       "    }\n",
       "\n",
       "    .dataframe thead th {\n",
       "        text-align: right;\n",
       "    }\n",
       "</style>\n",
       "<table border=\"1\" class=\"dataframe\">\n",
       "  <thead>\n",
       "    <tr style=\"text-align: right;\">\n",
       "      <th></th>\n",
       "      <th>id</th>\n",
       "      <th>customer_id</th>\n",
       "      <th>last_name</th>\n",
       "      <th>credit_score</th>\n",
       "      <th>country</th>\n",
       "      <th>gender</th>\n",
       "      <th>age</th>\n",
       "      <th>tenure</th>\n",
       "      <th>acc_balance</th>\n",
       "      <th>prod_count</th>\n",
       "      <th>has_card</th>\n",
       "      <th>is_active</th>\n",
       "      <th>estimated_salary</th>\n",
       "      <th>exit_status</th>\n",
       "    </tr>\n",
       "  </thead>\n",
       "  <tbody>\n",
       "    <tr>\n",
       "      <th>0</th>\n",
       "      <td>0</td>\n",
       "      <td>15788291</td>\n",
       "      <td>Iredale</td>\n",
       "      <td>559.0</td>\n",
       "      <td>France</td>\n",
       "      <td>Male</td>\n",
       "      <td>28.0</td>\n",
       "      <td>1</td>\n",
       "      <td>149989.39</td>\n",
       "      <td>1.0</td>\n",
       "      <td>1.0</td>\n",
       "      <td>1.0</td>\n",
       "      <td>67622.46</td>\n",
       "      <td>0</td>\n",
       "    </tr>\n",
       "    <tr>\n",
       "      <th>1</th>\n",
       "      <td>1</td>\n",
       "      <td>15642816</td>\n",
       "      <td>Hs?</td>\n",
       "      <td>694.0</td>\n",
       "      <td>France</td>\n",
       "      <td>Female</td>\n",
       "      <td>37.0</td>\n",
       "      <td>7</td>\n",
       "      <td>114510.35</td>\n",
       "      <td>2.0</td>\n",
       "      <td>0.0</td>\n",
       "      <td>0.0</td>\n",
       "      <td>182797.86</td>\n",
       "      <td>0</td>\n",
       "    </tr>\n",
       "    <tr>\n",
       "      <th>2</th>\n",
       "      <td>2</td>\n",
       "      <td>15632272</td>\n",
       "      <td>T'ien</td>\n",
       "      <td>585.0</td>\n",
       "      <td>NaN</td>\n",
       "      <td>Female</td>\n",
       "      <td>45.0</td>\n",
       "      <td>8</td>\n",
       "      <td>NaN</td>\n",
       "      <td>2.0</td>\n",
       "      <td>1.0</td>\n",
       "      <td>1.0</td>\n",
       "      <td>170338.35</td>\n",
       "      <td>0</td>\n",
       "    </tr>\n",
       "    <tr>\n",
       "      <th>3</th>\n",
       "      <td>3</td>\n",
       "      <td>15685826</td>\n",
       "      <td>Hightower</td>\n",
       "      <td>589.0</td>\n",
       "      <td>Spain</td>\n",
       "      <td>Male</td>\n",
       "      <td>25.0</td>\n",
       "      <td>0</td>\n",
       "      <td>166082.18</td>\n",
       "      <td>1.0</td>\n",
       "      <td>1.0</td>\n",
       "      <td>1.0</td>\n",
       "      <td>166476.46</td>\n",
       "      <td>0</td>\n",
       "    </tr>\n",
       "    <tr>\n",
       "      <th>4</th>\n",
       "      <td>4</td>\n",
       "      <td>15658032</td>\n",
       "      <td>Hopkins</td>\n",
       "      <td>701.0</td>\n",
       "      <td>France</td>\n",
       "      <td>Male</td>\n",
       "      <td>39.0</td>\n",
       "      <td>2</td>\n",
       "      <td>0.00</td>\n",
       "      <td>2.0</td>\n",
       "      <td>1.0</td>\n",
       "      <td>0.0</td>\n",
       "      <td>82526.92</td>\n",
       "      <td>0</td>\n",
       "    </tr>\n",
       "  </tbody>\n",
       "</table>\n",
       "</div>"
      ],
      "text/plain": [
       "   id  customer_id  last_name  credit_score country  gender   age  tenure  \\\n",
       "0   0     15788291    Iredale         559.0  France    Male  28.0       1   \n",
       "1   1     15642816        Hs?         694.0  France  Female  37.0       7   \n",
       "2   2     15632272      T'ien         585.0     NaN  Female  45.0       8   \n",
       "3   3     15685826  Hightower         589.0   Spain    Male  25.0       0   \n",
       "4   4     15658032    Hopkins         701.0  France    Male  39.0       2   \n",
       "\n",
       "   acc_balance  prod_count  has_card  is_active  estimated_salary  exit_status  \n",
       "0    149989.39         1.0       1.0        1.0          67622.46            0  \n",
       "1    114510.35         2.0       0.0        0.0         182797.86            0  \n",
       "2          NaN         2.0       1.0        1.0         170338.35            0  \n",
       "3    166082.18         1.0       1.0        1.0         166476.46            0  \n",
       "4         0.00         2.0       1.0        0.0          82526.92            0  "
      ]
     },
     "execution_count": 5,
     "metadata": {},
     "output_type": "execute_result"
    }
   ],
   "source": [
    "train.head()"
   ]
  },
  {
   "cell_type": "markdown",
   "id": "70b24ed9",
   "metadata": {
    "papermill": {
     "duration": 0.005735,
     "end_time": "2025-07-23T04:36:54.122630",
     "exception": false,
     "start_time": "2025-07-23T04:36:54.116895",
     "status": "completed"
    },
    "tags": []
   },
   "source": [
    "## Present descriptive statistics of numerical columns"
   ]
  },
  {
   "cell_type": "code",
   "execution_count": 6,
   "id": "6e01b34b",
   "metadata": {
    "execution": {
     "iopub.execute_input": "2025-07-23T04:36:54.134732Z",
     "iopub.status.busy": "2025-07-23T04:36:54.134518Z",
     "iopub.status.idle": "2025-07-23T04:36:54.199805Z",
     "shell.execute_reply": "2025-07-23T04:36:54.199241Z"
    },
    "papermill": {
     "duration": 0.072715,
     "end_time": "2025-07-23T04:36:54.201031",
     "exception": false,
     "start_time": "2025-07-23T04:36:54.128316",
     "status": "completed"
    },
    "tags": []
   },
   "outputs": [
    {
     "data": {
      "text/html": [
       "<div>\n",
       "<style scoped>\n",
       "    .dataframe tbody tr th:only-of-type {\n",
       "        vertical-align: middle;\n",
       "    }\n",
       "\n",
       "    .dataframe tbody tr th {\n",
       "        vertical-align: top;\n",
       "    }\n",
       "\n",
       "    .dataframe thead th {\n",
       "        text-align: right;\n",
       "    }\n",
       "</style>\n",
       "<table border=\"1\" class=\"dataframe\">\n",
       "  <thead>\n",
       "    <tr style=\"text-align: right;\">\n",
       "      <th></th>\n",
       "      <th>credit_score</th>\n",
       "      <th>age</th>\n",
       "      <th>tenure</th>\n",
       "      <th>acc_balance</th>\n",
       "      <th>prod_count</th>\n",
       "      <th>has_card</th>\n",
       "      <th>is_active</th>\n",
       "      <th>estimated_salary</th>\n",
       "      <th>exit_status</th>\n",
       "    </tr>\n",
       "  </thead>\n",
       "  <tbody>\n",
       "    <tr>\n",
       "      <th>count</th>\n",
       "      <td>80444.000000</td>\n",
       "      <td>90000.000000</td>\n",
       "      <td>90000.000000</td>\n",
       "      <td>82743.000000</td>\n",
       "      <td>85137.000000</td>\n",
       "      <td>90000.000000</td>\n",
       "      <td>90000.000000</td>\n",
       "      <td>90000.000000</td>\n",
       "      <td>90000.000000</td>\n",
       "    </tr>\n",
       "    <tr>\n",
       "      <th>mean</th>\n",
       "      <td>656.497054</td>\n",
       "      <td>38.119533</td>\n",
       "      <td>5.017022</td>\n",
       "      <td>55456.732147</td>\n",
       "      <td>1.552932</td>\n",
       "      <td>0.754289</td>\n",
       "      <td>0.497178</td>\n",
       "      <td>112394.659679</td>\n",
       "      <td>0.211600</td>\n",
       "    </tr>\n",
       "    <tr>\n",
       "      <th>std</th>\n",
       "      <td>80.016856</td>\n",
       "      <td>8.855203</td>\n",
       "      <td>2.804813</td>\n",
       "      <td>62788.474236</td>\n",
       "      <td>0.548011</td>\n",
       "      <td>0.430510</td>\n",
       "      <td>0.499995</td>\n",
       "      <td>50360.440702</td>\n",
       "      <td>0.408445</td>\n",
       "    </tr>\n",
       "    <tr>\n",
       "      <th>min</th>\n",
       "      <td>350.000000</td>\n",
       "      <td>18.000000</td>\n",
       "      <td>0.000000</td>\n",
       "      <td>0.000000</td>\n",
       "      <td>1.000000</td>\n",
       "      <td>0.000000</td>\n",
       "      <td>0.000000</td>\n",
       "      <td>11.580000</td>\n",
       "      <td>0.000000</td>\n",
       "    </tr>\n",
       "    <tr>\n",
       "      <th>25%</th>\n",
       "      <td>597.000000</td>\n",
       "      <td>32.000000</td>\n",
       "      <td>3.000000</td>\n",
       "      <td>0.000000</td>\n",
       "      <td>1.000000</td>\n",
       "      <td>1.000000</td>\n",
       "      <td>0.000000</td>\n",
       "      <td>74430.360000</td>\n",
       "      <td>0.000000</td>\n",
       "    </tr>\n",
       "    <tr>\n",
       "      <th>50%</th>\n",
       "      <td>659.000000</td>\n",
       "      <td>37.000000</td>\n",
       "      <td>5.000000</td>\n",
       "      <td>0.000000</td>\n",
       "      <td>2.000000</td>\n",
       "      <td>1.000000</td>\n",
       "      <td>0.000000</td>\n",
       "      <td>117505.070000</td>\n",
       "      <td>0.000000</td>\n",
       "    </tr>\n",
       "    <tr>\n",
       "      <th>75%</th>\n",
       "      <td>710.000000</td>\n",
       "      <td>42.000000</td>\n",
       "      <td>7.000000</td>\n",
       "      <td>119825.750000</td>\n",
       "      <td>2.000000</td>\n",
       "      <td>1.000000</td>\n",
       "      <td>1.000000</td>\n",
       "      <td>154874.787500</td>\n",
       "      <td>0.000000</td>\n",
       "    </tr>\n",
       "    <tr>\n",
       "      <th>max</th>\n",
       "      <td>850.000000</td>\n",
       "      <td>92.000000</td>\n",
       "      <td>10.000000</td>\n",
       "      <td>250898.090000</td>\n",
       "      <td>4.000000</td>\n",
       "      <td>1.000000</td>\n",
       "      <td>1.000000</td>\n",
       "      <td>199992.480000</td>\n",
       "      <td>1.000000</td>\n",
       "    </tr>\n",
       "  </tbody>\n",
       "</table>\n",
       "</div>"
      ],
      "text/plain": [
       "       credit_score           age        tenure    acc_balance    prod_count  \\\n",
       "count  80444.000000  90000.000000  90000.000000   82743.000000  85137.000000   \n",
       "mean     656.497054     38.119533      5.017022   55456.732147      1.552932   \n",
       "std       80.016856      8.855203      2.804813   62788.474236      0.548011   \n",
       "min      350.000000     18.000000      0.000000       0.000000      1.000000   \n",
       "25%      597.000000     32.000000      3.000000       0.000000      1.000000   \n",
       "50%      659.000000     37.000000      5.000000       0.000000      2.000000   \n",
       "75%      710.000000     42.000000      7.000000  119825.750000      2.000000   \n",
       "max      850.000000     92.000000     10.000000  250898.090000      4.000000   \n",
       "\n",
       "           has_card     is_active  estimated_salary   exit_status  \n",
       "count  90000.000000  90000.000000      90000.000000  90000.000000  \n",
       "mean       0.754289      0.497178     112394.659679      0.211600  \n",
       "std        0.430510      0.499995      50360.440702      0.408445  \n",
       "min        0.000000      0.000000         11.580000      0.000000  \n",
       "25%        1.000000      0.000000      74430.360000      0.000000  \n",
       "50%        1.000000      0.000000     117505.070000      0.000000  \n",
       "75%        1.000000      1.000000     154874.787500      0.000000  \n",
       "max        1.000000      1.000000     199992.480000      1.000000  "
      ]
     },
     "execution_count": 6,
     "metadata": {},
     "output_type": "execute_result"
    }
   ],
   "source": [
    "train.iloc[:,2:].describe()\n"
   ]
  },
  {
   "cell_type": "code",
   "execution_count": 7,
   "id": "e89b06b0",
   "metadata": {
    "execution": {
     "iopub.execute_input": "2025-07-23T04:36:54.213762Z",
     "iopub.status.busy": "2025-07-23T04:36:54.213563Z",
     "iopub.status.idle": "2025-07-23T04:36:54.243457Z",
     "shell.execute_reply": "2025-07-23T04:36:54.242691Z"
    },
    "papermill": {
     "duration": 0.037372,
     "end_time": "2025-07-23T04:36:54.244635",
     "exception": false,
     "start_time": "2025-07-23T04:36:54.207263",
     "status": "completed"
    },
    "tags": []
   },
   "outputs": [
    {
     "data": {
      "text/html": [
       "<div>\n",
       "<style scoped>\n",
       "    .dataframe tbody tr th:only-of-type {\n",
       "        vertical-align: middle;\n",
       "    }\n",
       "\n",
       "    .dataframe tbody tr th {\n",
       "        vertical-align: top;\n",
       "    }\n",
       "\n",
       "    .dataframe thead th {\n",
       "        text-align: right;\n",
       "    }\n",
       "</style>\n",
       "<table border=\"1\" class=\"dataframe\">\n",
       "  <thead>\n",
       "    <tr style=\"text-align: right;\">\n",
       "      <th></th>\n",
       "      <th>credit_score</th>\n",
       "      <th>age</th>\n",
       "      <th>tenure</th>\n",
       "      <th>acc_balance</th>\n",
       "      <th>prod_count</th>\n",
       "      <th>has_card</th>\n",
       "      <th>is_active</th>\n",
       "      <th>estimated_salary</th>\n",
       "    </tr>\n",
       "  </thead>\n",
       "  <tbody>\n",
       "    <tr>\n",
       "      <th>count</th>\n",
       "      <td>26815.000000</td>\n",
       "      <td>30000.000000</td>\n",
       "      <td>30000.000000</td>\n",
       "      <td>24749.000000</td>\n",
       "      <td>28283.000000</td>\n",
       "      <td>30000.000000</td>\n",
       "      <td>30000.000000</td>\n",
       "      <td>30000.000000</td>\n",
       "    </tr>\n",
       "    <tr>\n",
       "      <th>mean</th>\n",
       "      <td>656.406041</td>\n",
       "      <td>38.118100</td>\n",
       "      <td>5.024167</td>\n",
       "      <td>55444.225343</td>\n",
       "      <td>1.553972</td>\n",
       "      <td>0.757833</td>\n",
       "      <td>0.495200</td>\n",
       "      <td>112664.246065</td>\n",
       "    </tr>\n",
       "    <tr>\n",
       "      <th>std</th>\n",
       "      <td>80.310093</td>\n",
       "      <td>8.873345</td>\n",
       "      <td>2.809931</td>\n",
       "      <td>62736.404013</td>\n",
       "      <td>0.545386</td>\n",
       "      <td>0.428402</td>\n",
       "      <td>0.499985</td>\n",
       "      <td>50064.348532</td>\n",
       "    </tr>\n",
       "    <tr>\n",
       "      <th>min</th>\n",
       "      <td>350.000000</td>\n",
       "      <td>18.000000</td>\n",
       "      <td>0.000000</td>\n",
       "      <td>0.000000</td>\n",
       "      <td>1.000000</td>\n",
       "      <td>0.000000</td>\n",
       "      <td>0.000000</td>\n",
       "      <td>11.580000</td>\n",
       "    </tr>\n",
       "    <tr>\n",
       "      <th>25%</th>\n",
       "      <td>597.000000</td>\n",
       "      <td>32.000000</td>\n",
       "      <td>3.000000</td>\n",
       "      <td>0.000000</td>\n",
       "      <td>1.000000</td>\n",
       "      <td>1.000000</td>\n",
       "      <td>0.000000</td>\n",
       "      <td>74837.967500</td>\n",
       "    </tr>\n",
       "    <tr>\n",
       "      <th>50%</th>\n",
       "      <td>659.000000</td>\n",
       "      <td>37.000000</td>\n",
       "      <td>5.000000</td>\n",
       "      <td>0.000000</td>\n",
       "      <td>2.000000</td>\n",
       "      <td>1.000000</td>\n",
       "      <td>0.000000</td>\n",
       "      <td>118216.000000</td>\n",
       "    </tr>\n",
       "    <tr>\n",
       "      <th>75%</th>\n",
       "      <td>710.000000</td>\n",
       "      <td>42.000000</td>\n",
       "      <td>7.000000</td>\n",
       "      <td>119688.810000</td>\n",
       "      <td>2.000000</td>\n",
       "      <td>1.000000</td>\n",
       "      <td>1.000000</td>\n",
       "      <td>154920.805000</td>\n",
       "    </tr>\n",
       "    <tr>\n",
       "      <th>max</th>\n",
       "      <td>850.000000</td>\n",
       "      <td>92.000000</td>\n",
       "      <td>10.000000</td>\n",
       "      <td>250898.090000</td>\n",
       "      <td>4.000000</td>\n",
       "      <td>1.000000</td>\n",
       "      <td>1.000000</td>\n",
       "      <td>199992.480000</td>\n",
       "    </tr>\n",
       "  </tbody>\n",
       "</table>\n",
       "</div>"
      ],
      "text/plain": [
       "       credit_score           age        tenure    acc_balance    prod_count  \\\n",
       "count  26815.000000  30000.000000  30000.000000   24749.000000  28283.000000   \n",
       "mean     656.406041     38.118100      5.024167   55444.225343      1.553972   \n",
       "std       80.310093      8.873345      2.809931   62736.404013      0.545386   \n",
       "min      350.000000     18.000000      0.000000       0.000000      1.000000   \n",
       "25%      597.000000     32.000000      3.000000       0.000000      1.000000   \n",
       "50%      659.000000     37.000000      5.000000       0.000000      2.000000   \n",
       "75%      710.000000     42.000000      7.000000  119688.810000      2.000000   \n",
       "max      850.000000     92.000000     10.000000  250898.090000      4.000000   \n",
       "\n",
       "           has_card     is_active  estimated_salary  \n",
       "count  30000.000000  30000.000000      30000.000000  \n",
       "mean       0.757833      0.495200     112664.246065  \n",
       "std        0.428402      0.499985      50064.348532  \n",
       "min        0.000000      0.000000         11.580000  \n",
       "25%        1.000000      0.000000      74837.967500  \n",
       "50%        1.000000      0.000000     118216.000000  \n",
       "75%        1.000000      1.000000     154920.805000  \n",
       "max        1.000000      1.000000     199992.480000  "
      ]
     },
     "execution_count": 7,
     "metadata": {},
     "output_type": "execute_result"
    }
   ],
   "source": [
    "test.iloc[:,2:].describe()"
   ]
  },
  {
   "cell_type": "markdown",
   "id": "791abac2",
   "metadata": {
    "papermill": {
     "duration": 0.0058,
     "end_time": "2025-07-23T04:36:54.256790",
     "exception": false,
     "start_time": "2025-07-23T04:36:54.250990",
     "status": "completed"
    },
    "tags": []
   },
   "source": [
    "## Identify and handle the missing values"
   ]
  },
  {
   "cell_type": "code",
   "execution_count": 8,
   "id": "6d97ec26",
   "metadata": {
    "execution": {
     "iopub.execute_input": "2025-07-23T04:36:54.269532Z",
     "iopub.status.busy": "2025-07-23T04:36:54.269299Z",
     "iopub.status.idle": "2025-07-23T04:36:54.301346Z",
     "shell.execute_reply": "2025-07-23T04:36:54.300574Z"
    },
    "papermill": {
     "duration": 0.039768,
     "end_time": "2025-07-23T04:36:54.302599",
     "exception": false,
     "start_time": "2025-07-23T04:36:54.262831",
     "status": "completed"
    },
    "tags": []
   },
   "outputs": [
    {
     "name": "stdout",
     "output_type": "stream",
     "text": [
      "['Iredale' 'Hs?' \"T'ien\" ... 'Moysey' 'Loving' 'Gamble'] last_name\n",
      "[559. 694. 585. 589. 701. 587. 749. 712.  nan 769. 646. 718. 809. 675.\n",
      " 584. 660. 637. 684. 733. 776. 648. 581. 579. 677. 523. 582. 632. 717.\n",
      " 612. 775. 728. 567. 619. 679. 644. 750. 652. 671. 673. 534. 668. 790.\n",
      " 817. 590. 653. 544. 649. 554. 753. 759. 657. 586. 850. 822. 691. 681.\n",
      " 724. 833. 609. 682. 710. 756. 665. 748. 676. 558. 624. 608. 650. 549.\n",
      " 667. 740. 700. 568. 627. 604. 774. 731. 698. 745. 605. 594. 739. 663.\n",
      " 602. 699. 707. 628. 659. 678. 616. 730. 526. 476. 695. 576. 557. 706.\n",
      " 516. 532. 535. 556. 696. 743. 670. 593. 464. 547. 622. 716. 654. 633.\n",
      " 664. 575. 651. 635. 548. 498. 496. 580. 723. 638. 598. 611. 577. 711.\n",
      " 434. 725. 762. 703. 746. 709. 542. 573. 493. 639. 738. 705. 655. 662.\n",
      " 468. 708. 793. 613. 571. 686. 588. 574. 771. 744. 512. 742. 623. 719.\n",
      " 689. 629. 729. 618. 601. 770. 636. 757. 779. 529. 614. 645. 630. 597.\n",
      " 528. 530. 687. 661. 561. 796. 713. 531. 572. 727. 751. 781. 595. 617.\n",
      " 539. 453. 599. 714. 541. 658. 768. 537. 732. 846. 722. 583. 610. 807.\n",
      " 697. 826. 540. 674. 824. 596. 841. 550. 640. 607. 704. 792. 794. 477.\n",
      " 578. 656. 545. 772. 524. 688. 592. 735. 721. 805. 720. 501. 752. 692.\n",
      " 461. 812. 642. 715. 566. 615. 685. 543. 603. 519. 683. 551. 777. 818.\n",
      " 643. 760. 510. 620. 634. 565. 569. 472. 562. 499. 489. 500. 591. 736.\n",
      " 741. 773. 647. 726. 492. 563. 521. 641. 784. 737. 800. 553. 666. 835.\n",
      " 810. 631. 834. 755. 801. 536. 786. 507. 621. 764. 467. 509. 487. 515.\n",
      " 669. 497. 680. 525. 758. 452. 693. 830. 495. 606. 836. 823. 672. 625.\n",
      " 485. 508. 828. 463. 469. 789. 488. 811. 570. 767. 513. 538. 690. 506.\n",
      " 802. 444. 546. 821. 803. 816. 415. 763. 447. 460. 808. 754. 849. 405.\n",
      " 564. 478. 479. 791. 734. 427. 555. 494. 831. 600. 842. 514. 806. 471.\n",
      " 837. 765. 702. 511. 827. 813. 480. 782. 520. 766. 839. 426. 778. 814.\n",
      " 527. 484. 845. 780. 761. 433. 747. 815. 438. 517. 473. 482. 832. 486.\n",
      " 376. 626. 446. 459. 804. 503. 481. 560. 848. 491. 819. 788. 411. 465.\n",
      " 504. 505. 454. 533. 798. 518. 437. 552. 428. 785. 359. 787. 449. 442.\n",
      " 358. 840. 456. 450. 490. 475. 466. 470. 462. 483. 843. 795. 431. 435.\n",
      " 399. 829. 443. 418. 422. 844. 847. 825. 474. 413. 414. 458. 445. 783.\n",
      " 799. 439. 457. 797. 451. 522. 412. 838. 820. 425. 424. 430. 365. 502.\n",
      " 455. 350. 429. 420. 436. 367. 441. 404. 448. 432. 440. 363. 421. 416.\n",
      " 382. 408. 410. 386.] credit_score\n",
      "['France' nan 'Spain' 'Germany'] country\n",
      "['Male' 'Female'] gender\n",
      "[28. 37. 45. 25. 39. 36. 40. 49. 38. 55. 48. 54. 53. 29. 35. 41. 42. 32.\n",
      " 46. 34. 43. 52. 50. 33. 27. 30. 31. 23. 24. 51. 44. 26. 47. 60. 61. 22.\n",
      " 63. 67. 56. 62. 57. 20. 59. 18. 71. 66. 21. 79. 58. 19. 74. 75. 64. 72.\n",
      " 76. 65. 82. 73. 70. 77. 68. 69. 80. 83. 92. 81. 85. 78. 84.] age\n",
      "[ 1  7  8  0  2  4  9  5  6 10  3] tenure\n",
      "[149989.39 114510.35       nan ... 132034.8  109578.04 151027.06] acc_balance\n",
      "[ 1.  2.  3. nan  4.] prod_count\n",
      "[1. 0.] has_card\n",
      "[1. 0.] is_active\n",
      "[ 67622.46 182797.86 170338.35 ...  51503.51 168814.48 161431.52] estimated_salary\n",
      "[0 1] exit_status\n"
     ]
    }
   ],
   "source": [
    "for i in train.iloc[:,2:].columns:\n",
    "    print(train[i].unique(),i)"
   ]
  },
  {
   "cell_type": "code",
   "execution_count": 9,
   "id": "08a266d0",
   "metadata": {
    "execution": {
     "iopub.execute_input": "2025-07-23T04:36:54.316336Z",
     "iopub.status.busy": "2025-07-23T04:36:54.316104Z",
     "iopub.status.idle": "2025-07-23T04:36:54.335603Z",
     "shell.execute_reply": "2025-07-23T04:36:54.335016Z"
    },
    "papermill": {
     "duration": 0.027223,
     "end_time": "2025-07-23T04:36:54.336715",
     "exception": false,
     "start_time": "2025-07-23T04:36:54.309492",
     "status": "completed"
    },
    "tags": []
   },
   "outputs": [
    {
     "data": {
      "text/plain": [
       "id                     0\n",
       "customer_id            0\n",
       "last_name              0\n",
       "credit_score        9556\n",
       "country             6021\n",
       "gender                 0\n",
       "age                    0\n",
       "tenure                 0\n",
       "acc_balance         7257\n",
       "prod_count          4863\n",
       "has_card               0\n",
       "is_active              0\n",
       "estimated_salary       0\n",
       "exit_status            0\n",
       "dtype: int64"
      ]
     },
     "execution_count": 9,
     "metadata": {},
     "output_type": "execute_result"
    }
   ],
   "source": [
    "train.isna().sum()"
   ]
  },
  {
   "cell_type": "code",
   "execution_count": 10,
   "id": "1dd1cb93",
   "metadata": {
    "execution": {
     "iopub.execute_input": "2025-07-23T04:36:54.350108Z",
     "iopub.status.busy": "2025-07-23T04:36:54.349638Z",
     "iopub.status.idle": "2025-07-23T04:36:54.353240Z",
     "shell.execute_reply": "2025-07-23T04:36:54.352542Z"
    },
    "papermill": {
     "duration": 0.011464,
     "end_time": "2025-07-23T04:36:54.354398",
     "exception": false,
     "start_time": "2025-07-23T04:36:54.342934",
     "status": "completed"
    },
    "tags": []
   },
   "outputs": [],
   "source": [
    "impute_median_cols=['credit_score','acc_balance','prod_count']"
   ]
  },
  {
   "cell_type": "code",
   "execution_count": 11,
   "id": "42c1b9e4",
   "metadata": {
    "execution": {
     "iopub.execute_input": "2025-07-23T04:36:54.367490Z",
     "iopub.status.busy": "2025-07-23T04:36:54.366767Z",
     "iopub.status.idle": "2025-07-23T04:36:54.382405Z",
     "shell.execute_reply": "2025-07-23T04:36:54.381577Z"
    },
    "papermill": {
     "duration": 0.023448,
     "end_time": "2025-07-23T04:36:54.383724",
     "exception": false,
     "start_time": "2025-07-23T04:36:54.360276",
     "status": "completed"
    },
    "tags": []
   },
   "outputs": [
    {
     "name": "stderr",
     "output_type": "stream",
     "text": [
      "/tmp/ipykernel_19/2663213509.py:1: FutureWarning: A value is trying to be set on a copy of a DataFrame or Series through chained assignment using an inplace method.\n",
      "The behavior will change in pandas 3.0. This inplace method will never work because the intermediate object on which we are setting values always behaves as a copy.\n",
      "\n",
      "For example, when doing 'df[col].method(value, inplace=True)', try using 'df.method({col: value}, inplace=True)' or df[col] = df[col].method(value) instead, to perform the operation inplace on the original object.\n",
      "\n",
      "\n",
      "  train['country'].replace(np.nan,'unknown',inplace=True)\n",
      "/tmp/ipykernel_19/2663213509.py:2: FutureWarning: A value is trying to be set on a copy of a DataFrame or Series through chained assignment using an inplace method.\n",
      "The behavior will change in pandas 3.0. This inplace method will never work because the intermediate object on which we are setting values always behaves as a copy.\n",
      "\n",
      "For example, when doing 'df[col].method(value, inplace=True)', try using 'df.method({col: value}, inplace=True)' or df[col] = df[col].method(value) instead, to perform the operation inplace on the original object.\n",
      "\n",
      "\n",
      "  test['country'].replace(np.nan,'unknown',inplace=True)\n"
     ]
    }
   ],
   "source": [
    "train['country'].replace(np.nan,'unknown',inplace=True)\n",
    "test['country'].replace(np.nan,'unknown',inplace=True)"
   ]
  },
  {
   "cell_type": "code",
   "execution_count": 12,
   "id": "17d5786d",
   "metadata": {
    "execution": {
     "iopub.execute_input": "2025-07-23T04:36:54.397732Z",
     "iopub.status.busy": "2025-07-23T04:36:54.397526Z",
     "iopub.status.idle": "2025-07-23T04:36:55.900819Z",
     "shell.execute_reply": "2025-07-23T04:36:55.900238Z"
    },
    "papermill": {
     "duration": 1.511404,
     "end_time": "2025-07-23T04:36:55.902100",
     "exception": false,
     "start_time": "2025-07-23T04:36:54.390696",
     "status": "completed"
    },
    "tags": []
   },
   "outputs": [],
   "source": [
    "from sklearn.impute import SimpleImputer"
   ]
  },
  {
   "cell_type": "code",
   "execution_count": 13,
   "id": "66d4e432",
   "metadata": {
    "execution": {
     "iopub.execute_input": "2025-07-23T04:36:55.916535Z",
     "iopub.status.busy": "2025-07-23T04:36:55.916122Z",
     "iopub.status.idle": "2025-07-23T04:36:55.919548Z",
     "shell.execute_reply": "2025-07-23T04:36:55.918982Z"
    },
    "papermill": {
     "duration": 0.01198,
     "end_time": "2025-07-23T04:36:55.920732",
     "exception": false,
     "start_time": "2025-07-23T04:36:55.908752",
     "status": "completed"
    },
    "tags": []
   },
   "outputs": [],
   "source": [
    "ss=SimpleImputer(strategy='median')"
   ]
  },
  {
   "cell_type": "code",
   "execution_count": 14,
   "id": "9d0fa1e3",
   "metadata": {
    "execution": {
     "iopub.execute_input": "2025-07-23T04:36:55.934375Z",
     "iopub.status.busy": "2025-07-23T04:36:55.934098Z",
     "iopub.status.idle": "2025-07-23T04:36:55.978873Z",
     "shell.execute_reply": "2025-07-23T04:36:55.978238Z"
    },
    "papermill": {
     "duration": 0.053167,
     "end_time": "2025-07-23T04:36:55.980322",
     "exception": false,
     "start_time": "2025-07-23T04:36:55.927155",
     "status": "completed"
    },
    "tags": []
   },
   "outputs": [],
   "source": [
    "train[impute_median_cols]=ss.fit_transform(train[impute_median_cols])\n",
    "test[impute_median_cols]=ss.transform(test[impute_median_cols])"
   ]
  },
  {
   "cell_type": "markdown",
   "id": "aed742fc",
   "metadata": {
    "papermill": {
     "duration": 0.005924,
     "end_time": "2025-07-23T04:36:55.992973",
     "exception": false,
     "start_time": "2025-07-23T04:36:55.987049",
     "status": "completed"
    },
    "tags": []
   },
   "source": [
    "## Identify and handle duplicates"
   ]
  },
  {
   "cell_type": "code",
   "execution_count": 15,
   "id": "0df7d669",
   "metadata": {
    "execution": {
     "iopub.execute_input": "2025-07-23T04:36:56.049117Z",
     "iopub.status.busy": "2025-07-23T04:36:56.048638Z",
     "iopub.status.idle": "2025-07-23T04:36:56.105297Z",
     "shell.execute_reply": "2025-07-23T04:36:56.104653Z"
    },
    "papermill": {
     "duration": 0.107579,
     "end_time": "2025-07-23T04:36:56.106504",
     "exception": false,
     "start_time": "2025-07-23T04:36:55.998925",
     "status": "completed"
    },
    "tags": []
   },
   "outputs": [
    {
     "data": {
      "text/plain": [
       "(0, 0)"
      ]
     },
     "execution_count": 15,
     "metadata": {},
     "output_type": "execute_result"
    }
   ],
   "source": [
    "train.duplicated().sum(),test.duplicated().sum()\n"
   ]
  },
  {
   "cell_type": "markdown",
   "id": "a83febbd",
   "metadata": {
    "papermill": {
     "duration": 0.006211,
     "end_time": "2025-07-23T04:36:56.119211",
     "exception": false,
     "start_time": "2025-07-23T04:36:56.113000",
     "status": "completed"
    },
    "tags": []
   },
   "source": [
    "so no duplicates are , so no need to do drop_duplicates()."
   ]
  },
  {
   "cell_type": "markdown",
   "id": "2e99af4a",
   "metadata": {
    "papermill": {
     "duration": 0.005975,
     "end_time": "2025-07-23T04:36:56.131321",
     "exception": false,
     "start_time": "2025-07-23T04:36:56.125346",
     "status": "completed"
    },
    "tags": []
   },
   "source": [
    "## Identify and handle outliers"
   ]
  },
  {
   "cell_type": "code",
   "execution_count": 16,
   "id": "ed6915a1",
   "metadata": {
    "execution": {
     "iopub.execute_input": "2025-07-23T04:36:56.144443Z",
     "iopub.status.busy": "2025-07-23T04:36:56.144144Z",
     "iopub.status.idle": "2025-07-23T04:36:56.210497Z",
     "shell.execute_reply": "2025-07-23T04:36:56.209559Z"
    },
    "papermill": {
     "duration": 0.074341,
     "end_time": "2025-07-23T04:36:56.211742",
     "exception": false,
     "start_time": "2025-07-23T04:36:56.137401",
     "status": "completed"
    },
    "tags": []
   },
   "outputs": [
    {
     "name": "stdout",
     "output_type": "stream",
     "text": [
      "(89395, 14)\n",
      "(86015, 14)\n",
      "(86015, 14)\n",
      "(86015, 14)\n",
      "(85776, 14)\n",
      "(85776, 14)\n"
     ]
    }
   ],
   "source": [
    "num_cols = [\n",
    "    'credit_score', 'age', 'tenure', 'acc_balance',\n",
    "    'prod_count', 'estimated_salary'\n",
    "]\n",
    "for column in num_cols:\n",
    "    Q1 = train[column].quantile(0.25)\n",
    "    Q3 = train[column].quantile(0.75)\n",
    "    IQR = Q3 - Q1\n",
    "    lower = Q1 - 1.5 * IQR\n",
    "    upper = Q3 + 1.5 * IQR\n",
    "    train = train[(train[column] >= lower) & (train[column] <= upper)]\n",
    "    print(train.shape)\n"
   ]
  },
  {
   "cell_type": "markdown",
   "id": "ead05e48",
   "metadata": {
    "papermill": {
     "duration": 0.006107,
     "end_time": "2025-07-23T04:36:56.224419",
     "exception": false,
     "start_time": "2025-07-23T04:36:56.218312",
     "status": "completed"
    },
    "tags": []
   },
   "source": [
    "## Present at least three visualizations and provide insights for the same"
   ]
  },
  {
   "cell_type": "code",
   "execution_count": 17,
   "id": "61ccf1c6",
   "metadata": {
    "execution": {
     "iopub.execute_input": "2025-07-23T04:36:56.237920Z",
     "iopub.status.busy": "2025-07-23T04:36:56.237261Z",
     "iopub.status.idle": "2025-07-23T04:36:56.727731Z",
     "shell.execute_reply": "2025-07-23T04:36:56.726962Z"
    },
    "papermill": {
     "duration": 0.498562,
     "end_time": "2025-07-23T04:36:56.729112",
     "exception": false,
     "start_time": "2025-07-23T04:36:56.230550",
     "status": "completed"
    },
    "tags": []
   },
   "outputs": [],
   "source": [
    "import seaborn as sns\n",
    "import matplotlib.pyplot as plt"
   ]
  },
  {
   "cell_type": "code",
   "execution_count": 18,
   "id": "1f1f8333",
   "metadata": {
    "execution": {
     "iopub.execute_input": "2025-07-23T04:36:56.743029Z",
     "iopub.status.busy": "2025-07-23T04:36:56.742743Z",
     "iopub.status.idle": "2025-07-23T04:36:56.980664Z",
     "shell.execute_reply": "2025-07-23T04:36:56.980007Z"
    },
    "papermill": {
     "duration": 0.245953,
     "end_time": "2025-07-23T04:36:56.981788",
     "exception": false,
     "start_time": "2025-07-23T04:36:56.735835",
     "status": "completed"
    },
    "tags": []
   },
   "outputs": [
    {
     "data": {
      "image/png": "[encoded data removed]",
      "text/plain": [
       "<Figure size 640x480 with 1 Axes>"
      ]
     },
     "metadata": {},
     "output_type": "display_data"
    }
   ],
   "source": [
    "sns.boxplot(data=train, x='exit_status', y='credit_score')\n",
    "plt.title(\"Credit Score vs Exit Status\")\n",
    "plt.show()\n",
    "\n"
   ]
  },
  {
   "cell_type": "markdown",
   "id": "12f0fa0c",
   "metadata": {
    "papermill": {
     "duration": 0.00693,
     "end_time": "2025-07-23T04:36:56.995985",
     "exception": false,
     "start_time": "2025-07-23T04:36:56.989055",
     "status": "completed"
    },
    "tags": []
   },
   "source": [
    "Lower credit scores may be correlated with customer exits — possibly due to riskier financial profiles."
   ]
  },
  {
   "cell_type": "code",
   "execution_count": 19,
   "id": "6fa4ad49",
   "metadata": {
    "execution": {
     "iopub.execute_input": "2025-07-23T04:36:57.010919Z",
     "iopub.status.busy": "2025-07-23T04:36:57.010269Z",
     "iopub.status.idle": "2025-07-23T04:36:57.611141Z",
     "shell.execute_reply": "2025-07-23T04:36:57.610280Z"
    },
    "papermill": {
     "duration": 0.611085,
     "end_time": "2025-07-23T04:36:57.613810",
     "exception": false,
     "start_time": "2025-07-23T04:36:57.002725",
     "status": "completed"
    },
    "tags": []
   },
   "outputs": [
    {
     "name": "stderr",
     "output_type": "stream",
     "text": [
      "/usr/local/lib/python3.11/dist-packages/seaborn/_oldcore.py:1119: FutureWarning: use_inf_as_na option is deprecated and will be removed in a future version. Convert inf values to NaN before operating instead.\n",
      "  with pd.option_context('mode.use_inf_as_na', True):\n",
      "/usr/local/lib/python3.11/dist-packages/seaborn/_oldcore.py:1075: FutureWarning: When grouping with a length-1 list-like, you will need to pass a length-1 tuple to get_group in a future version of pandas. Pass `(name,)` instead of `name` to silence this warning.\n",
      "  data_subset = grouped_data.get_group(pd_key)\n",
      "/usr/local/lib/python3.11/dist-packages/seaborn/_oldcore.py:1075: FutureWarning: When grouping with a length-1 list-like, you will need to pass a length-1 tuple to get_group in a future version of pandas. Pass `(name,)` instead of `name` to silence this warning.\n",
      "  data_subset = grouped_data.get_group(pd_key)\n"
     ]
    },
    {
     "data": {
      "image/png": "[encoded data removed]",
      "text/plain": [
       "<Figure size 640x480 with 1 Axes>"
      ]
     },
     "metadata": {},
     "output_type": "display_data"
    }
   ],
   "source": [
    "sns.histplot(data=train, x='credit_score', hue='exit_status', kde=True, element='step', bins=30)\n",
    "plt.title('Credit Score Distribution by Exit Status')\n",
    "plt.xlabel('Credit Score')\n",
    "plt.ylabel('Count')\n",
    "plt.legend(labels=['Stay', 'Exit'])\n",
    "plt.show()"
   ]
  },
  {
   "cell_type": "markdown",
   "id": "4fa86063",
   "metadata": {
    "papermill": {
     "duration": 0.007129,
     "end_time": "2025-07-23T04:36:57.629240",
     "exception": false,
     "start_time": "2025-07-23T04:36:57.622111",
     "status": "completed"
    },
    "tags": []
   },
   "source": [
    "This reinforces the boxplot insight — credit score is a useful feature in predicting churn/exit status.\n",
    "\n"
   ]
  },
  {
   "cell_type": "code",
   "execution_count": 20,
   "id": "8557d3ea",
   "metadata": {
    "execution": {
     "iopub.execute_input": "2025-07-23T04:36:57.644855Z",
     "iopub.status.busy": "2025-07-23T04:36:57.644583Z",
     "iopub.status.idle": "2025-07-23T04:36:57.852472Z",
     "shell.execute_reply": "2025-07-23T04:36:57.851664Z"
    },
    "papermill": {
     "duration": 0.217245,
     "end_time": "2025-07-23T04:36:57.853727",
     "exception": false,
     "start_time": "2025-07-23T04:36:57.636482",
     "status": "completed"
    },
    "tags": []
   },
   "outputs": [
    {
     "data": {
      "image/png": "[encoded data removed]",
      "text/plain": [
       "<Figure size 640x480 with 1 Axes>"
      ]
     },
     "metadata": {},
     "output_type": "display_data"
    }
   ],
   "source": [
    "sns.countplot(data=train, x='country', hue='exit_status')\n",
    "plt.title(\"Country-wise Exit Status\")\n",
    "plt.show()"
   ]
  },
  {
   "cell_type": "markdown",
   "id": "ebfef55a",
   "metadata": {
    "papermill": {
     "duration": 0.007485,
     "end_time": "2025-07-23T04:36:57.869945",
     "exception": false,
     "start_time": "2025-07-23T04:36:57.862460",
     "status": "completed"
    },
    "tags": []
   },
   "source": [
    "Country is an important categorical feature — customers from some regions are more likely to exit, and this should be captured with encoding.\n",
    "\n"
   ]
  },
  {
   "cell_type": "markdown",
   "id": "e4bb315d",
   "metadata": {
    "papermill": {
     "duration": 0.007586,
     "end_time": "2025-07-23T04:36:57.885216",
     "exception": false,
     "start_time": "2025-07-23T04:36:57.877630",
     "status": "completed"
    },
    "tags": []
   },
   "source": [
    "## Scale Numerical features and Encode Categorical features\n",
    "\n",
    "we do scale all the numerical columns with Standard Scalar,\n",
    "and for encodign categorical columns we used LabelEncoder, for both gender and country column, we can also use onehotencoder for country column, but we have given very few types of countries so i choosed labelencoder over onehotencoder."
   ]
  },
  {
   "cell_type": "code",
   "execution_count": 21,
   "id": "f04288eb",
   "metadata": {
    "execution": {
     "iopub.execute_input": "2025-07-23T04:36:57.901480Z",
     "iopub.status.busy": "2025-07-23T04:36:57.901225Z",
     "iopub.status.idle": "2025-07-23T04:36:57.904381Z",
     "shell.execute_reply": "2025-07-23T04:36:57.903867Z"
    },
    "papermill": {
     "duration": 0.012647,
     "end_time": "2025-07-23T04:36:57.905422",
     "exception": false,
     "start_time": "2025-07-23T04:36:57.892775",
     "status": "completed"
    },
    "tags": []
   },
   "outputs": [],
   "source": [
    "from sklearn.preprocessing import LabelEncoder,StandardScaler"
   ]
  },
  {
   "cell_type": "code",
   "execution_count": 22,
   "id": "f2b0d10c",
   "metadata": {
    "execution": {
     "iopub.execute_input": "2025-07-23T04:36:57.921308Z",
     "iopub.status.busy": "2025-07-23T04:36:57.921081Z",
     "iopub.status.idle": "2025-07-23T04:36:57.963241Z",
     "shell.execute_reply": "2025-07-23T04:36:57.962519Z"
    },
    "papermill": {
     "duration": 0.051668,
     "end_time": "2025-07-23T04:36:57.964637",
     "exception": false,
     "start_time": "2025-07-23T04:36:57.912969",
     "status": "completed"
    },
    "tags": []
   },
   "outputs": [],
   "source": [
    "## scaling numerical columns\n",
    "\n",
    "ss=StandardScaler()\n",
    "train[num_cols]=ss.fit_transform(train[num_cols])\n",
    "test[num_cols]=ss.transform(test[num_cols])"
   ]
  },
  {
   "cell_type": "code",
   "execution_count": 23,
   "id": "d78c6f56",
   "metadata": {
    "execution": {
     "iopub.execute_input": "2025-07-23T04:36:57.981659Z",
     "iopub.status.busy": "2025-07-23T04:36:57.981440Z",
     "iopub.status.idle": "2025-07-23T04:36:58.021375Z",
     "shell.execute_reply": "2025-07-23T04:36:58.020828Z"
    },
    "papermill": {
     "duration": 0.049651,
     "end_time": "2025-07-23T04:36:58.022485",
     "exception": false,
     "start_time": "2025-07-23T04:36:57.972834",
     "status": "completed"
    },
    "tags": []
   },
   "outputs": [],
   "source": [
    "## encoding categorical variables\n",
    "\n",
    "\n",
    "\n",
    "le_country=LabelEncoder()\n",
    "train['country']=le_country.fit_transform(train['country'])\n",
    "test['country']=le_country.transform(test['country'])\n",
    "le_gender=LabelEncoder()\n",
    "train['gender']=le_gender.fit_transform(train['gender'])\n",
    "test['gender']=le_gender.transform(test['gender'])"
   ]
  },
  {
   "cell_type": "code",
   "execution_count": 24,
   "id": "74089234",
   "metadata": {
    "execution": {
     "iopub.execute_input": "2025-07-23T04:36:58.038569Z",
     "iopub.status.busy": "2025-07-23T04:36:58.038379Z",
     "iopub.status.idle": "2025-07-23T04:36:58.051405Z",
     "shell.execute_reply": "2025-07-23T04:36:58.050862Z"
    },
    "papermill": {
     "duration": 0.022184,
     "end_time": "2025-07-23T04:36:58.052455",
     "exception": false,
     "start_time": "2025-07-23T04:36:58.030271",
     "status": "completed"
    },
    "tags": []
   },
   "outputs": [],
   "source": [
    "y=train['exit_status']\n",
    "x=train.drop(columns=['id', 'customer_id', 'last_name', 'exit_status'])\n",
    "test_id=test['id']\n",
    "test_droped=test.drop(columns=['id', 'customer_id', 'last_name'],)"
   ]
  },
  {
   "cell_type": "markdown",
   "id": "1657f7e1",
   "metadata": {
    "papermill": {
     "duration": 0.007828,
     "end_time": "2025-07-23T04:36:58.067902",
     "exception": false,
     "start_time": "2025-07-23T04:36:58.060074",
     "status": "completed"
    },
    "tags": []
   },
   "source": [
    "## Model Building (at least 7)"
   ]
  },
  {
   "cell_type": "code",
   "execution_count": 25,
   "id": "906e34a4",
   "metadata": {
    "execution": {
     "iopub.execute_input": "2025-07-23T04:36:58.084080Z",
     "iopub.status.busy": "2025-07-23T04:36:58.083895Z",
     "iopub.status.idle": "2025-07-23T04:36:58.106035Z",
     "shell.execute_reply": "2025-07-23T04:36:58.105454Z"
    },
    "papermill": {
     "duration": 0.031725,
     "end_time": "2025-07-23T04:36:58.107404",
     "exception": false,
     "start_time": "2025-07-23T04:36:58.075679",
     "status": "completed"
    },
    "tags": []
   },
   "outputs": [],
   "source": [
    "from sklearn.model_selection import train_test_split\n",
    "x_train,x_test,y_train,y_test=train_test_split(x,y,test_size=0.2,random_state=42)"
   ]
  },
  {
   "cell_type": "code",
   "execution_count": 26,
   "id": "366ed705",
   "metadata": {
    "execution": {
     "iopub.execute_input": "2025-07-23T04:36:58.124666Z",
     "iopub.status.busy": "2025-07-23T04:36:58.124403Z",
     "iopub.status.idle": "2025-07-23T04:37:03.617634Z",
     "shell.execute_reply": "2025-07-23T04:37:03.616808Z"
    },
    "papermill": {
     "duration": 5.503337,
     "end_time": "2025-07-23T04:37:03.619035",
     "exception": false,
     "start_time": "2025-07-23T04:36:58.115698",
     "status": "completed"
    },
    "tags": []
   },
   "outputs": [],
   "source": [
    "from sklearn.linear_model import LogisticRegression\n",
    "from sklearn.tree import DecisionTreeClassifier\n",
    "from sklearn.ensemble import RandomForestClassifier, GradientBoostingClassifier\n",
    "from xgboost import XGBClassifier\n",
    "from lightgbm import LGBMClassifier\n",
    "from catboost import CatBoostClassifier\n",
    "from sklearn.metrics import f1_score,accuracy_score\n",
    "from sklearn.svm import SVC\n",
    "from sklearn.naive_bayes import GaussianNB\n",
    "from sklearn.neighbors import KNeighborsClassifier\n",
    "\n",
    "models = {\n",
    "    # \"LogisticRegression\": LogisticRegression(class_weight='balanced', max_iter=1000),\n",
    "    \"DecisionTree\": DecisionTreeClassifier(),\n",
    "    # \"RandomForest\": RandomForestClassifier(class_weight='balanced'),\n",
    "    \"GradientBoosting\": GradientBoostingClassifier(),\n",
    "    \"XGBoost\": XGBClassifier(use_label_encoder=False, eval_metric='logloss'),\n",
    "    \"LightGBM\": LGBMClassifier(verbose=-1),\n",
    "    \"CatBoost\": CatBoostClassifier(verbose=0),\n",
    "    \"Logistic Regression\": LogisticRegression(),\n",
    "    # \"Decision Tree\": DecisionTreeClassifier(),\n",
    "    \"Random Forest\": RandomForestClassifier(),\n",
    "    \"SVM\": SVC(),\n",
    "    \"Naive Bayes\": GaussianNB(),\n",
    "    \"KNN\": KNeighborsClassifier(),\n",
    "    # \"XGBoost\": XGBClassifier(use_label_encoder=False, eval_metric='logloss')\n",
    "}"
   ]
  },
  {
   "cell_type": "code",
   "execution_count": 27,
   "id": "208da583",
   "metadata": {
    "execution": {
     "iopub.execute_input": "2025-07-23T04:37:03.636884Z",
     "iopub.status.busy": "2025-07-23T04:37:03.635910Z",
     "iopub.status.idle": "2025-07-23T04:39:25.932359Z",
     "shell.execute_reply": "2025-07-23T04:39:25.931569Z"
    },
    "papermill": {
     "duration": 142.315237,
     "end_time": "2025-07-23T04:39:25.942498",
     "exception": false,
     "start_time": "2025-07-23T04:37:03.627261",
     "status": "completed"
    },
    "tags": []
   },
   "outputs": [
    {
     "name": "stdout",
     "output_type": "stream",
     "text": [
      "{'DecisionTree': {'F1 Score': 0.4906884875846501, 'Accuracy': 0.7895779902075076}, 'GradientBoosting': {'F1 Score': 0.5906362545018008, 'Accuracy': 0.8608650034973188}, 'XGBoost': {'F1 Score': 0.59520264681555, 'Accuracy': 0.8573676847750058}, 'LightGBM': {'F1 Score': 0.6007387508394897, 'Accuracy': 0.8613896013056657}, 'CatBoost': {'F1 Score': 0.5954790823211875, 'Accuracy': 0.860223828398228}, 'Logistic Regression': {'F1 Score': 0.49551904406273334, 'Accuracy': 0.8425040802051761}, 'Random Forest': {'F1 Score': 0.5834744327802236, 'Accuracy': 0.8566099323851714}, 'SVM': {'F1 Score': 0.5493577981651376, 'Accuracy': 0.8568430869666589}, 'Naive Bayes': {'F1 Score': 0.5172109443954104, 'Accuracy': 0.840580554907904}, 'KNN': {'F1 Score': 0.5607721249795518, 'Accuracy': 0.8434949871764981}}\n"
     ]
    }
   ],
   "source": [
    "results={}\n",
    "for name, model in models.items():\n",
    "    model.fit(x_train,y_train),\n",
    "    pred=model.predict(x_test)\n",
    "    score=f1_score(y_test,pred)\n",
    "    acc = accuracy_score(y_test, pred)\n",
    "    results[name] = {'F1 Score': score, 'Accuracy': acc}\n",
    "print(results)"
   ]
  },
  {
   "cell_type": "code",
   "execution_count": 28,
   "id": "d6c4c1c1",
   "metadata": {
    "execution": {
     "iopub.execute_input": "2025-07-23T04:39:25.960283Z",
     "iopub.status.busy": "2025-07-23T04:39:25.960030Z",
     "iopub.status.idle": "2025-07-23T04:39:25.969735Z",
     "shell.execute_reply": "2025-07-23T04:39:25.969142Z"
    },
    "papermill": {
     "duration": 0.019533,
     "end_time": "2025-07-23T04:39:25.970888",
     "exception": false,
     "start_time": "2025-07-23T04:39:25.951355",
     "status": "completed"
    },
    "tags": []
   },
   "outputs": [
    {
     "data": {
      "text/html": [
       "<div>\n",
       "<style scoped>\n",
       "    .dataframe tbody tr th:only-of-type {\n",
       "        vertical-align: middle;\n",
       "    }\n",
       "\n",
       "    .dataframe tbody tr th {\n",
       "        vertical-align: top;\n",
       "    }\n",
       "\n",
       "    .dataframe thead th {\n",
       "        text-align: right;\n",
       "    }\n",
       "</style>\n",
       "<table border=\"1\" class=\"dataframe\">\n",
       "  <thead>\n",
       "    <tr style=\"text-align: right;\">\n",
       "      <th></th>\n",
       "      <th>F1 Score</th>\n",
       "      <th>Accuracy</th>\n",
       "    </tr>\n",
       "  </thead>\n",
       "  <tbody>\n",
       "    <tr>\n",
       "      <th>LightGBM</th>\n",
       "      <td>0.600739</td>\n",
       "      <td>0.861390</td>\n",
       "    </tr>\n",
       "    <tr>\n",
       "      <th>CatBoost</th>\n",
       "      <td>0.595479</td>\n",
       "      <td>0.860224</td>\n",
       "    </tr>\n",
       "    <tr>\n",
       "      <th>XGBoost</th>\n",
       "      <td>0.595203</td>\n",
       "      <td>0.857368</td>\n",
       "    </tr>\n",
       "    <tr>\n",
       "      <th>GradientBoosting</th>\n",
       "      <td>0.590636</td>\n",
       "      <td>0.860865</td>\n",
       "    </tr>\n",
       "    <tr>\n",
       "      <th>Random Forest</th>\n",
       "      <td>0.583474</td>\n",
       "      <td>0.856610</td>\n",
       "    </tr>\n",
       "    <tr>\n",
       "      <th>KNN</th>\n",
       "      <td>0.560772</td>\n",
       "      <td>0.843495</td>\n",
       "    </tr>\n",
       "    <tr>\n",
       "      <th>SVM</th>\n",
       "      <td>0.549358</td>\n",
       "      <td>0.856843</td>\n",
       "    </tr>\n",
       "    <tr>\n",
       "      <th>Naive Bayes</th>\n",
       "      <td>0.517211</td>\n",
       "      <td>0.840581</td>\n",
       "    </tr>\n",
       "    <tr>\n",
       "      <th>Logistic Regression</th>\n",
       "      <td>0.495519</td>\n",
       "      <td>0.842504</td>\n",
       "    </tr>\n",
       "    <tr>\n",
       "      <th>DecisionTree</th>\n",
       "      <td>0.490688</td>\n",
       "      <td>0.789578</td>\n",
       "    </tr>\n",
       "  </tbody>\n",
       "</table>\n",
       "</div>"
      ],
      "text/plain": [
       "                     F1 Score  Accuracy\n",
       "LightGBM             0.600739  0.861390\n",
       "CatBoost             0.595479  0.860224\n",
       "XGBoost              0.595203  0.857368\n",
       "GradientBoosting     0.590636  0.860865\n",
       "Random Forest        0.583474  0.856610\n",
       "KNN                  0.560772  0.843495\n",
       "SVM                  0.549358  0.856843\n",
       "Naive Bayes          0.517211  0.840581\n",
       "Logistic Regression  0.495519  0.842504\n",
       "DecisionTree         0.490688  0.789578"
      ]
     },
     "execution_count": 28,
     "metadata": {},
     "output_type": "execute_result"
    }
   ],
   "source": [
    "pd.DataFrame(results.values(), columns=[\"F1 Score\",\"Accuracy\"], index=results.keys()).sort_values(by=\"F1 Score\", ascending=False)"
   ]
  },
  {
   "cell_type": "markdown",
   "id": "11a61151",
   "metadata": {
    "papermill": {
     "duration": 0.008289,
     "end_time": "2025-07-23T04:39:25.987678",
     "exception": false,
     "start_time": "2025-07-23T04:39:25.979389",
     "status": "completed"
    },
    "tags": []
   },
   "source": [
    "## Hyperparameter Tuning on any 3 of the models"
   ]
  },
  {
   "cell_type": "code",
   "execution_count": 29,
   "id": "fe76f79c",
   "metadata": {
    "execution": {
     "iopub.execute_input": "2025-07-23T04:39:26.005002Z",
     "iopub.status.busy": "2025-07-23T04:39:26.004776Z",
     "iopub.status.idle": "2025-07-23T04:43:23.123059Z",
     "shell.execute_reply": "2025-07-23T04:43:23.122327Z"
    },
    "papermill": {
     "duration": 237.13902,
     "end_time": "2025-07-23T04:43:23.134772",
     "exception": false,
     "start_time": "2025-07-23T04:39:25.995752",
     "status": "completed"
    },
    "tags": []
   },
   "outputs": [
    {
     "name": "stdout",
     "output_type": "stream",
     "text": [
      "Best LightGBM Params: {'learning_rate': 0.1, 'max_depth': 7, 'n_estimators': 200, 'num_leaves': 15, 'subsample': 0.6}\n"
     ]
    }
   ],
   "source": [
    "from sklearn.model_selection import GridSearchCV,StratifiedKFold\n",
    "\n",
    "\n",
    "cv = StratifiedKFold(n_splits=3, shuffle=True, random_state=42)\n",
    "\n",
    "# LightGBM\n",
    "param_grid_lgbm = {\n",
    "    'n_estimators': [100, 200],\n",
    "    'learning_rate': [0.01, 0.05, 0.1],\n",
    "    'max_depth': [3, 5, 7],\n",
    "    'num_leaves': [15, 31, 63],\n",
    "    'subsample': [0.6, 0.8, 1.0]\n",
    "}\n",
    "gs_lgbm = GridSearchCV(LGBMClassifier(), param_grid_lgbm, cv=cv, scoring='f1',verbose=0)\n",
    "gs_lgbm.fit(x_train, y_train)\n",
    "print(\"Best LightGBM Params:\", gs_lgbm.best_params_)\n"
   ]
  },
  {
   "cell_type": "code",
   "execution_count": 30,
   "id": "e0e21c03",
   "metadata": {
    "execution": {
     "iopub.execute_input": "2025-07-23T04:43:23.152854Z",
     "iopub.status.busy": "2025-07-23T04:43:23.152078Z",
     "iopub.status.idle": "2025-07-23T04:44:22.931036Z",
     "shell.execute_reply": "2025-07-23T04:44:22.930228Z"
    },
    "papermill": {
     "duration": 59.798228,
     "end_time": "2025-07-23T04:44:22.941288",
     "exception": false,
     "start_time": "2025-07-23T04:43:23.143060",
     "status": "completed"
    },
    "tags": []
   },
   "outputs": [
    {
     "name": "stdout",
     "output_type": "stream",
     "text": [
      "Best XGBoost Params: {'colsample_bytree': 1.0, 'learning_rate': 0.1, 'max_depth': 5, 'n_estimators': 200, 'subsample': 0.7}\n"
     ]
    }
   ],
   "source": [
    "# XGBoost\n",
    "param_grid_xgb = {\n",
    "    'n_estimators': [100, 200],\n",
    "    'learning_rate': [0.01, 0.1],\n",
    "    'max_depth': [3, 5, 7],\n",
    "    'subsample': [0.7, 0.9],\n",
    "    'colsample_bytree': [0.7, 1.0]\n",
    "}\n",
    "gs_xgb = GridSearchCV(XGBClassifier(use_label_encoder=False, eval_metric='logloss', verbosity=0), param_grid_xgb, cv=cv, scoring='f1', verbose=0)\n",
    "gs_xgb.fit(x_train, y_train)\n",
    "print(\"Best XGBoost Params:\", gs_xgb.best_params_)"
   ]
  },
  {
   "cell_type": "code",
   "execution_count": 31,
   "id": "a5f7393f",
   "metadata": {
    "execution": {
     "iopub.execute_input": "2025-07-23T04:44:22.959728Z",
     "iopub.status.busy": "2025-07-23T04:44:22.959450Z",
     "iopub.status.idle": "2025-07-23T04:44:49.671205Z",
     "shell.execute_reply": "2025-07-23T04:44:49.670376Z"
    },
    "papermill": {
     "duration": 26.722664,
     "end_time": "2025-07-23T04:44:49.672376",
     "exception": false,
     "start_time": "2025-07-23T04:44:22.949712",
     "status": "completed"
    },
    "tags": []
   },
   "outputs": [
    {
     "name": "stdout",
     "output_type": "stream",
     "text": [
      "Best CatBoost Params: {'depth': 6, 'iterations': 100}\n"
     ]
    }
   ],
   "source": [
    "param_grid_cat = {\n",
    "    'iterations': [100, 300],\n",
    "    'depth': [4, 6, 8]\n",
    "    # 'learning_rate': [0.01, 0.05, 0.1],\n",
    "    # 'l2_leaf_reg': [1, 3, 5]\n",
    "}\n",
    "gs_cat = GridSearchCV(CatBoostClassifier(verbose=0), param_grid_cat, cv=3, scoring='f1', verbose=0)\n",
    "gs_cat.fit(x_train, y_train)\n",
    "print(\"Best CatBoost Params:\", gs_cat.best_params_)"
   ]
  },
  {
   "cell_type": "code",
   "execution_count": 32,
   "id": "16354c53",
   "metadata": {
    "execution": {
     "iopub.execute_input": "2025-07-23T04:44:49.689901Z",
     "iopub.status.busy": "2025-07-23T04:44:49.689679Z",
     "iopub.status.idle": "2025-07-23T04:44:49.695889Z",
     "shell.execute_reply": "2025-07-23T04:44:49.695167Z"
    },
    "papermill": {
     "duration": 0.016018,
     "end_time": "2025-07-23T04:44:49.696977",
     "exception": false,
     "start_time": "2025-07-23T04:44:49.680959",
     "status": "completed"
    },
    "tags": []
   },
   "outputs": [
    {
     "name": "stdout",
     "output_type": "stream",
     "text": [
      "                     F1 Score  Accuracy\n",
      "DecisionTree         0.490688  0.789578\n",
      "GradientBoosting     0.590636  0.860865\n",
      "XGBoost              0.595203  0.857368\n",
      "LightGBM             0.600739  0.861390\n",
      "CatBoost             0.595479  0.860224\n",
      "Logistic Regression  0.495519  0.842504\n",
      "Random Forest        0.583474  0.856610\n",
      "SVM                  0.549358  0.856843\n",
      "Naive Bayes          0.517211  0.840581\n",
      "KNN                  0.560772  0.843495\n"
     ]
    }
   ],
   "source": [
    "final_results = pd.DataFrame.from_dict(results, orient='index')\n",
    "print(final_results)\n"
   ]
  },
  {
   "cell_type": "code",
   "execution_count": null,
   "id": "895201e7",
   "metadata": {
    "papermill": {
     "duration": 0.008153,
     "end_time": "2025-07-23T04:44:49.909025",
     "exception": false,
     "start_time": "2025-07-23T04:44:49.900872",
     "status": "completed"
    },
    "tags": []
   },
   "outputs": [],
   "source": []
  }
 ],
 "metadata": {
  "kaggle": {
   "accelerator": "gpu",
   "dataSources": [
    {
     "databundleVersionId": 13009703,
     "sourceId": 107399,
     "sourceType": "competition"
    }
   ],
   "dockerImageVersionId": 31089,
   "isGpuEnabled": true,
   "isInternetEnabled": true,
   "language": "python",
   "sourceType": "notebook"
  },
  "kernelspec": {
   "display_name": "Python 3",
   "language": "python",
   "name": "python3"
  },
  "language_info": {
   "codemirror_mode": {
    "name": "ipython",
    "version": 3
   },
   "file_extension": ".py",
   "mimetype": "text/x-python",
   "name": "python",
   "nbconvert_exporter": "python",
   "pygments_lexer": "ipython3",
   "version": "3.11.13"
  },
  "papermill": {
   "default_parameters": {},
   "duration": 483.292655,
   "end_time": "2025-07-23T04:44:50.937818",
   "environment_variables": {},
   "exception": null,
   "input_path": "__notebook__.ipynb",
   "output_path": "__notebook__.ipynb",
   "parameters": {},
   "start_time": "2025-07-23T04:36:47.645163",
   "version": "2.6.0"
  }
 },
 "nbformat": 4,
 "nbformat_minor": 5
}
